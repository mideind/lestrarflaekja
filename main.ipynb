{
 "cells": [
  {
   "cell_type": "code",
   "execution_count": 1,
   "id": "52d55d36",
   "metadata": {},
   "outputs": [],
   "source": [
    "import glob\n",
    "import os\n",
    "\n",
    "books_dir = os.path.join(os.getcwd(), \"books\")\n",
    "# The ** pattern matches any files and zero or more directories\n",
    "text_files = glob.glob(os.path.join(books_dir, \"**\", \"*.txt\"), recursive=True)"
   ]
  },
  {
   "cell_type": "code",
   "execution_count": 29,
   "id": "61163234",
   "metadata": {},
   "outputs": [],
   "source": [
    "# create dataset from text files\n",
    "from datasets import Dataset\n",
    "from datasets import load_dataset\n",
    "\n",
    "def extract_text(file_path):\n",
    "    txt = \"\"\n",
    "    with open(file_path, 'r', encoding='utf-8') as file:\n",
    "        txt = file.read()\n",
    "    # filter metadata out\n",
    "    txt = \"\\n\".join([line for line in txt.split(\"\\n\") if not line.startswith(\"metadata:\")])\n",
    "    \n",
    "    # find the line containing dashes and return the text after it\n",
    "    lines = txt.split('\\n')\n",
    "    for i, line in enumerate(lines):\n",
    "        if '\\-\\-\\-' in line and line.strip().replace('\\\\', '').replace('-', '') == '':  # line contains only dashes\n",
    "            # return everything after this line\n",
    "            return '\\n'.join(lines[i+1:]).strip()\n",
    "    \n",
    "    return txt\n",
    "\n",
    "dataset = Dataset.from_dict({\"text\": [extract_text(file) for file in text_files]})"
   ]
  },
  {
   "cell_type": "code",
   "execution_count": 32,
   "id": "a0134f2c",
   "metadata": {},
   "outputs": [
    {
     "data": {
      "text/plain": [
       "'Þjófar\\n\\nHjólið hans Láka Mána hvarf frá húsi númer sjö við Sómalæk og finnst\\nalls ekki.\\n\\nEru þjófar á ferli við Sómalæk?\\n\\nLáki Máni er níu ára fyrirliði í landsliðinu.\\n\\nLiðið heitir Landslið Láka Mána og spilar bara á heimavelli -- í\\ninnkeyrslunni.\\n\\nÞrír heimsfrægir kappar eru í liðinu.\\n\\nLáki Máni er sá eini sem sér þá.\\n\\nDynkir\\n\\nHurðin á skúrnum er markið.\\n\\nMamma kemur oft út og æpir á landsliðið.\\n\\n-- Láki Máni! Ekki dúndra í bílskúrinn! hrópar hún.\\n\\nMamma er bókari og vinnur heima.\\n\\nPabbi býr til höggmyndir í skúrnum.\\n\\nHann er með eyrnaskjól með útvarpi og heyrir ekki.\\n\\nMamma æðir inn í bílskúr og kallar.\\n\\nHún stappar niður fæti.\\n\\nPabbi tekur af sér eyrnaskjólin.\\n\\n-- Ertu að segja eitthvað, elskan? spyr hann hissa.\\n\\n-- Hvernig getur þú unnið þegar Láki Máni dúndrar og þrusar í skúrinn?\\n\\nÞegar ég reikna glymur í hausnum á mér:\\n\\n-- Er æfing hjá landsliðinu? spyr pabbi.\\n\\n-- Jamm, segir Láki Máni.\\n\\n-- Hvernig gengur?\\n\\n-- Ekki vel, svarar Láki Máni. Domm er slappur í hnénu.\\n\\n-- Rugluhausar, tautar mamma og fer.\\n\\n-- Fáðu þér eyrnaskjól, elskan! kallar pabbi.\\n\\nLipurtærnar\\n\\nAfi Láki býr í kjallaranum.\\n\\nAmma hans Láka Mána er löngu dáin.\\n\\nAfi er í gönguklúbbi sem heitir Láki og lipurtærnar.\\n\\nAfi er eini karlinn í klúbbnum með tíu eldri dömum.\\n\\nÞau arka með göngustafi um borgina.\\n\\nEinu sinni héldu þau maraþon og gengu alla leiðina í Mosó.\\n\\nÞað var alltof löng leið.\\n\\nAfi fékk verk í bakið.\\n\\nEin lipurtáin fékk svimakast.\\n\\nÖnnur fékk sinadrátt og nokkrar lipurtær fengu blöðrur á tærnar.\\n\\nÞau gengu yfir sig og voru sótt í bíl.\\n\\nAfi Láki bauð lipurtánum smákökur á meðan þau biðu.\\n\\nEftir maraþonið til Mosó eru þau hætt að fara langt og ganga bara í\\nhverfinu.\\n\\nLitakassar\\n\\nEn það búa fleiri í húsinu.\\n\\nTveir fimmtán ára litakassar búa þar líka.\\n\\nÞeir heita Klara og Karítas og eru tvíburar.\\n\\nKlara og Karítas eru systur Láka Mána.\\n\\nÞær mála sig mikið í framan.\\n\\nStundum líta þær út eins og indíánar á leið í stríð.\\n\\nSysturnar nota bláa skugga, svarta blýanta og bleika varaliti.\\n\\nLáka Mána finnst þær líkjast skrítnum fuglum úr dýragarði.\\n\\nLitakassarnir eru með pissigult hár sem þær lita sjálfar.\\n\\nMamma segir að þær séu að gera tilraunir.\\n\\nHún segir að dag einn verði þær aftur venjulegar á litinn.\\n\\nKlara og Karítas eru langar eins og slöngur og æfa körfubolta.\\n\\nÞær eru hörku leikmenn.\\n\\nLáki Máni segir þeim það helst ekki.\\n\\nÞær verða of montnar.\\n\\nLjósastaurar\\n\\nStundum taka Klara og Karítas markið frá landsliðinu.\\n\\n-- Hverfa, stubbur, segir Klara og kastar á körfuna.\\n\\n-- Gufa upp, dvergur, kallar Karítas og grípur.\\n\\nLandsliðið flýr.\\n\\nDomm brunar burtu í sportbíl.\\n\\nDikk hleypur niður götuna.\\n\\nDúss þýtur út í buskann á mótorhjóli.\\n\\nLáki Máni er einn eftir.\\n\\nTveir illa málaðir ljósastaurar með tuðru hamast í kringum hann.\\n\\nLáki Máni gefst upp og fer inn.\\n\\nHann tekur af sér svarta hanska.\\n\\n-- Tvíburarnir tóku af mér völlinn af því að þeir eru svo frekir, vælir\\nLáki Máni.\\n\\n-- Þær þurfa nú líka að æfa sig, segir mamma.\\n\\nÞað eru æfingar hjá landsliðinu þínu mörgum sinnum á dag.\\n\\nÞú mátt ekki einoka völlinn.\\n\\nDótahvarf\\n\\nÍ húsinu við Sómagötu gerast daglega dularfullir atburðir.\\n\\nHlutir hreinlega gufa upp.\\n\\nEnginn veit hvað veldur.\\n\\nÞað er þó nokkuð víst að geimverur eru á ferð.\\n\\nSnyrtidót mömmu hverfur.\\n\\nSúkkulaði hverfur næstum strax ef það er til.\\n\\nSmákökur, rakvélar, skrúfjárn, tyggjó, bíllyklar, gloss og hanskar\\nhverfa eins og jörðin gleypi dót.\\n\\nEnginn veit hvað varð um hjólið hans Láka Mána.\\n\\nJú annars, einhver hlýtur að vita það.\\n\\nHjól gufa ekki upp í himininn nema geimverur steli þeim.\\n\\nLáki Máni er líka viss um að það var geimvera sem stal hjólinu hans.\\n\\nGeimvera sem býr á plánetunni jörð.\\n\\nJafnvel geimvera sem hann þekkir.\\n\\nKökuþjófar\\n\\n-- Ég hélt að ég ætti súkkulaði, segir mamma hissa þegar gestir koma.\\n\\nHún kíkir í skápa.\\n\\nHún fer á alla sína bestu felustaði.\\n\\nHún skoðar í fataskáp og blaðakörfu.\\n\\nHún gægist undir sófa og á bak við bókahillu.\\n\\nHvergi finnur hún súkkulaði.\\n\\n-- Þá fáum við okkur bara smákökur, segir mamma.\\n\\nEn hvar er dósin með smákökunum?\\n\\nHún leitar á bak við sjónvarpið.\\n\\nHún kíkir inn í bakaraofninn og fer niður til afa Láka.\\n\\nLoks finnur mamma smákökudósina í hillu á baðinu.\\n\\nHún er tóm.\\n\\nGestirnir verða súrir.\\n\\nÞeir sötra kaffi en fá ekkert súkkulaði og engar smákökur.\\n\\nRakvélaræningi\\n\\n-- Hvernig stendur á því að rakvélarnar mínar eru horfnar? spyr pabbi.\\n\\nHann fær ekkert svar.\\n\\nAllir eru að flýta sér.\\n\\nPabbi fer niður til afa Láka og spyr hvort hann hafi tekið rakvél.\\n\\nAfi Láki reiðist.\\n\\n-- Ég á sjálfur rakvélar, tautar afi.\\n\\nÉg þarf ekki að stela þínum.\\n\\nPabbi fer órakaður út í skúr.\\n\\nSnyrtibófi\\n\\n-- Hvar eru kremin mín? Og hvar er púðrið? spyr mamma undrandi.\\n\\n-- Ekki hugmynd, svara Klara og Karítas.\\n\\nÞær maka á sig kremum við spegilinn.\\n\\nÞær heyra varla í mömmu og taka til við að klína framan í sig öllum\\nlitum regnbogans.\\n\\nSnyrtibófar eru sjúkir í krem og liti.\\n\\nHanskakrimmi\\n\\n-- Æææ, veinar Karítas.\\n\\n-- Hvað? ískrar í Klöru.\\n\\n-- Ég finn ekki svörtu hanskana. Ég skildi þá eftir hér, vælir Karítas.\\n\\n-- Ömurlegt, svarar Klara. Ég var með tyggjó í veskinu. Nú er það\\nhorfið.\\n\\n-- LÁÁKI MÁÁNI! garga þær báðar í kór.\\n\\nLáki Máni lætur sig hverfa.\\n\\nHann forðar sér á æfingu með landsliðinu.\\n\\nDótagleypir?\\n\\n-- Hvar er skrúfjárnið mitt? spyr pabbi.\\n\\n-- Og bíllyklarnir? bætir hann við.\\n\\n-- Ég held að jörðin gleypi dót, svarar mamma.\\n\\nEða kannski er ósýnilegur dótagleypir í húsinu?\\n\\nPabbi klórar sér í hausnum og fer út í skúr.\\n\\nLáki Máni situr í tröppunum með landsliðinu.\\n\\nLeynilöggur\\n\\n-- Það eru þjófar í húsinu, segir Láki Máni og japlar tyggjó.\\n\\n-- Við vitum það, svarar Dúss.\\n\\n-- Hvernig? Láki Máni fer í svarta hanska.\\n\\n-- Við erum leynilöggur, Dikk glottir.\\n\\n-- Pabbi þinn er sjúkur í súkkulaði. Hann veit um alla felustaði í\\nhúsinu, segir Dúss.\\n\\n-- Afi Láki tekur smákökur og gefur lipurtánum.\\n\\nLjósastaurarnir ræna snyrtidóti.\\n\\nAllir taka það sem þá vantar.\\n\\nÞað biður enginn um leyfi, segir Domm.\\n\\n-- Mamma þín tekur skrúfjárn og gerir við stólinn sinn.\\n\\nHún rænir líka rakvélum til að raka fótleggina, segir Dikk.\\n\\nLáki Máni fussar.\\n\\n-- Þú þarft líka að taka þig á, segir Domm.\\n\\nÞú tókst hanska og tyggjó.\\n\\nÞað á að spyrja um leyfi -- ekki taka.\\n\\n-- Það er samt ekki nóg að ég fari einn í átak, segir Láki Máni og blæs\\nkúlu.\\n\\n-- Nei, það þurfa allir að bæta sig, segir Dúss og skokkar út götuna.\\n\\nÞjófahyskið\\n\\nÞað er fundur í eldhúsinu.\\n\\nAllir íbúar mæta.\\n\\nLáki Máni skilar hönskum og tyggjói.\\n\\n-- Hanskarnir mínir! kallar Karítas.\\n\\n-- Tyggjóið mitt! Klara grípur pakkann.\\n\\nLáki Máni heldur ræðu.\\n\\nHann talar um hver tók hvaða dót.\\n\\nHann vill ekki búa með þjófum og ræningjum.\\n\\nLáki Máni ætlar sjálfur að bæta sig.\\n\\nAllir lofa að taka sig á.\\n\\n-- En hver tekur bíllyklana? spyr pabbi.\\n\\n-- Enginn, pabbi, svarar Láki Máni. Þú týnir þeim sjálfur.\\n\\nDyrabjöllu er hringt.\\n\\nMalla vinkona tvíburanna er fyrir utan.\\n\\nHún er með hjólið hans Láka Mána.\\n\\n-- Karítas gleymdi því hjá mér, segir Malla.\\n\\nLáki Máni er fúll.\\n\\n-- Ha. Ég? segir Karítas ringluð.\\n\\nÓ, já, ég fékk hjólið lánað um daginn þegar ég fór til Möllu.\\n\\nÉg var búin að gleyma því.\\n\\nLán og leyfi\\n\\n-- Ég vissi að geimvera hefði rænt hjólinu mínu, segir Láki Máni reiður.\\n\\nLöng slöngugeimvera með pissigult hár frá plánetunni Þjófanus.\\n\\n-- Svo heitir það ekki að fá lánað nema maður fái leyfi, bætir Láki Máni\\nvið.\\n\\nKarítas tekur utan um Láka Mána.\\n\\nHún kreistir hann fast og kyssir á hausinn.\\n\\n-- Fyrirgefðu, litli snúður! Ég skal aldrei aftur taka hluti án þess að\\nspyrja um leyfi, segir hún.\\n\\nLáki Máni slítur sig lausan og nuddar kossinn af kollinum.\\n\\n-- Og þú mátt eiga hanskana mína, bætir hún við.\\n\\nLáki Máni brosir sínu breiðasta og setur á sig hanskana.\\n\\nFelustaðir\\n\\nHér eftir verður tekið hart á þjófum í kökuleit.\\n\\nMamma nær í stól.\\n\\nHún klifrar upp á borð.\\n\\nHún sækir rauðan bauk í efstu hillu.\\n\\nHún klifrar fimlega niður með baukinn.\\n\\nMamma býður upp á smákökur.\\n\\n-- Þetta er nýr felustaður, segir afi hissa.\\n\\n-- Já, og hann er hættulega hátt uppi fyrir gamla karla! segir mamma\\nákveðin.'"
      ]
     },
     "execution_count": 32,
     "metadata": {},
     "output_type": "execute_result"
    }
   ],
   "source": [
    "dataset[\"text\"][1]  # Display the first text entry in the dataset"
   ]
  },
  {
   "cell_type": "code",
   "execution_count": 33,
   "id": "45c2e613",
   "metadata": {},
   "outputs": [
    {
     "name": "stdout",
     "output_type": "stream",
     "text": [
      "Total words in the dataset: 31300\n"
     ]
    }
   ],
   "source": [
    "# hwo many words in the dataset\n",
    "total_words = sum(len(text.split()) for text in dataset[\"text\"])\n",
    "print(f\"Total words in the dataset: {total_words}\")"
   ]
  },
  {
   "cell_type": "code",
   "execution_count": 34,
   "id": "91339e43",
   "metadata": {},
   "outputs": [
    {
     "data": {
      "text/plain": [
       "80"
      ]
     },
     "execution_count": 34,
     "metadata": {},
     "output_type": "execute_result"
    }
   ],
   "source": [
    "len(dataset[\"text\"])  # Number of text entries in the dataset"
   ]
  },
  {
   "cell_type": "code",
   "execution_count": null,
   "id": "117ab8f1",
   "metadata": {},
   "outputs": [],
   "source": [
    "# publish to github\n",
    "# dataset.push_to_hub(\"sigurdurhaukur/lestrarflaekja-books\")"
   ]
  }
 ],
 "metadata": {
  "kernelspec": {
   "display_name": "lestrarflaekja",
   "language": "python",
   "name": "python3"
  },
  "language_info": {
   "codemirror_mode": {
    "name": "ipython",
    "version": 3
   },
   "file_extension": ".py",
   "mimetype": "text/x-python",
   "name": "python",
   "nbconvert_exporter": "python",
   "pygments_lexer": "ipython3",
   "version": "3.10.18"
  }
 },
 "nbformat": 4,
 "nbformat_minor": 5
}
